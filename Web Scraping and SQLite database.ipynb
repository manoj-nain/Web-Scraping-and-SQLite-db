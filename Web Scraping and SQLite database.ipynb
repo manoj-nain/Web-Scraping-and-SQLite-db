{
 "cells": [
  {
   "cell_type": "markdown",
   "metadata": {},
   "source": [
    "# Web Scraping"
   ]
  },
  {
   "cell_type": "code",
   "execution_count": 73,
   "metadata": {},
   "outputs": [],
   "source": [
    "import bs4\n",
    "from urllib.request import urlopen as uReq\n",
    "from bs4 import BeautifulSoup as soup\n",
    "\n",
    "my_url = 'https://www.imdb.com/list/ls068010962/'\n",
    "#opening up connection, downloading the page\n",
    "uClient = uReq(my_url)\n",
    "bol_celeb = uClient.read()\n",
    "uClient.close()\n",
    "\n",
    "#html parsing\n",
    "bol_soup = soup(bol_celeb,'html.parser')\n",
    "\n",
    "#grabs each star\n",
    "containers =  bol_soup.findAll('div',{'class':'lister-item mode-detail'})\n",
    "\n",
    "filename = 'bollywood.csv'\n",
    "f= open(filename,'w')\n",
    "headers = 'actor_image,actor_name,movie,about\\n'\n",
    "f.write(headers)\n",
    "\n",
    "pic_name = []\n",
    "actor_name = []\n",
    "actor_desc = []\n",
    "for container,img in zip(containers,bol_soup.findAll('img')):\n",
    "    name = container.h3.text\n",
    "    movie = container.p.text.replace('Actor |',\"\")\n",
    "    trait =container.find('p',{'class':''}).text\n",
    "    image = img.get('src')\n",
    "    image_name = img.get('alt')\n",
    "    full_name = str(image_name) + \".jpg\"\n",
    "    pic_name.append(full_name)\n",
    "    actor_name.append(name)\n",
    "    actor_desc.append(trait)\n",
    "    urllib.request.urlretrieve(image, full_name)"
   ]
  },
  {
   "cell_type": "markdown",
   "metadata": {},
   "source": [
    "# Uploading to SQLite database"
   ]
  },
  {
   "cell_type": "code",
   "execution_count": 76,
   "metadata": {},
   "outputs": [],
   "source": [
    "import sqlite3\n",
    "\n",
    "def convertToBinaryData(filename):\n",
    "    #Convert digital data to binary format\n",
    "    with open(filename, 'rb') as file:\n",
    "        blobData = file.read()\n",
    "    return blobData\n",
    "\n",
    "def insertBLOB(index, name, photo, description):\n",
    "    try:\n",
    "        sqliteConnection = sqlite3.connect('SQLite_Python.db')\n",
    "        cursor = sqliteConnection.cursor()\n",
    "        print(\"Connected to SQLite\")\n",
    "        sqlite_insert_blob_query = \"\"\" INSERT INTO new_actor\n",
    "                                  (index, name, photo, description) VALUES (?, ?, ?, ?)\"\"\"\n",
    "\n",
    "        actPhoto = convertToBinaryData(photo)\n",
    "        # Convert data into tuple format\n",
    "        data_tuple = (index, name, actPhoto, description)\n",
    "        cursor.execute(sqlite_insert_blob_query, data_tuple)\n",
    "        sqliteConnection.commit()\n",
    "        print(\"Image inserted successfully as a BLOB into a table\")\n",
    "        cursor.close()\n",
    "\n",
    "    except sqlite3.Error as error:\n",
    "        print(\"Failed to insert blob data into sqlite table\", error)\n",
    "    finally:\n",
    "        if (sqliteConnection):\n",
    "            sqliteConnection.close()\n",
    "            print(\"the sqlite connection is closed\")"
   ]
  },
  {
   "cell_type": "code",
   "execution_count": 85,
   "metadata": {},
   "outputs": [],
   "source": [
    "id = range(1,101)\n",
    "for a,p,d,i in zip(actor_name,pic_name,actor_desc,range(1,101)):\n",
    "    path = 'C:\\\\Users\\\\Manoj\\\\'+p\n",
    "    insertBLOB(1, a, path, d)"
   ]
  }
 ],
 "metadata": {
  "kernelspec": {
   "display_name": "Python 3",
   "language": "python",
   "name": "python3"
  },
  "language_info": {
   "codemirror_mode": {
    "name": "ipython",
    "version": 3
   },
   "file_extension": ".py",
   "mimetype": "text/x-python",
   "name": "python",
   "nbconvert_exporter": "python",
   "pygments_lexer": "ipython3",
   "version": "3.7.4"
  }
 },
 "nbformat": 4,
 "nbformat_minor": 2
}
